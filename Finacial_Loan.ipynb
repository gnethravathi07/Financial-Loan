{
 "cells": [
  {
   "cell_type": "markdown",
   "id": "ced8b80c-88e7-4c45-bc42-89dd5890ed14",
   "metadata": {},
   "source": [
    "# Strategic Loan Insights & Risk Monitoring"
   ]
  },
  {
   "cell_type": "code",
   "execution_count": 1,
   "id": "78823ff8-82ad-467e-b793-2abea0cdfc39",
   "metadata": {},
   "outputs": [],
   "source": [
    "import pandas as pd\n",
    "\n",
    "import pandas as pd\n",
    "import matplotlib.pyplot as plt\n",
    "import seaborn as sns\n",
    "import plotly.express as px"
   ]
  },
  {
   "cell_type": "code",
   "execution_count": 2,
   "id": "afbaa8c0-3f4d-49bb-8032-3acafbaeca0f",
   "metadata": {},
   "outputs": [],
   "source": [
    "# Importing data\n",
    "df = pd.read_csv(\"C:/Users/DELL'/Music/project- loan/financial_loan.csv\") \n",
    "df['issue_date'] = pd.to_datetime(df['issue_date'], format='%d-%m-%Y')"
   ]
  },
  {
   "cell_type": "code",
   "execution_count": 3,
   "id": "049d5559-55dc-418e-9da7-53e4d95fe355",
   "metadata": {},
   "outputs": [
    {
     "data": {
      "text/html": [
       "<div>\n",
       "<style scoped>\n",
       "    .dataframe tbody tr th:only-of-type {\n",
       "        vertical-align: middle;\n",
       "    }\n",
       "\n",
       "    .dataframe tbody tr th {\n",
       "        vertical-align: top;\n",
       "    }\n",
       "\n",
       "    .dataframe thead th {\n",
       "        text-align: right;\n",
       "    }\n",
       "</style>\n",
       "<table border=\"1\" class=\"dataframe\">\n",
       "  <thead>\n",
       "    <tr style=\"text-align: right;\">\n",
       "      <th></th>\n",
       "      <th>id</th>\n",
       "      <th>address_state</th>\n",
       "      <th>application_type</th>\n",
       "      <th>emp_length</th>\n",
       "      <th>emp_title</th>\n",
       "      <th>grade</th>\n",
       "      <th>home_ownership</th>\n",
       "      <th>issue_date</th>\n",
       "      <th>last_credit_pull_date</th>\n",
       "      <th>last_payment_date</th>\n",
       "      <th>...</th>\n",
       "      <th>sub_grade</th>\n",
       "      <th>term</th>\n",
       "      <th>verification_status</th>\n",
       "      <th>annual_income</th>\n",
       "      <th>dti</th>\n",
       "      <th>installment</th>\n",
       "      <th>int_rate</th>\n",
       "      <th>loan_amount</th>\n",
       "      <th>total_acc</th>\n",
       "      <th>total_payment</th>\n",
       "    </tr>\n",
       "  </thead>\n",
       "  <tbody>\n",
       "    <tr>\n",
       "      <th>0</th>\n",
       "      <td>1077430</td>\n",
       "      <td>GA</td>\n",
       "      <td>INDIVIDUAL</td>\n",
       "      <td>&lt; 1 year</td>\n",
       "      <td>Ryder</td>\n",
       "      <td>C</td>\n",
       "      <td>RENT</td>\n",
       "      <td>2024-02-11</td>\n",
       "      <td>13-09-2024</td>\n",
       "      <td>13-04-2024</td>\n",
       "      <td>...</td>\n",
       "      <td>C4</td>\n",
       "      <td>60 months</td>\n",
       "      <td>Source Verified</td>\n",
       "      <td>30000.0</td>\n",
       "      <td>0.0100</td>\n",
       "      <td>59.83</td>\n",
       "      <td>0.1527</td>\n",
       "      <td>2500</td>\n",
       "      <td>4</td>\n",
       "      <td>1009</td>\n",
       "    </tr>\n",
       "    <tr>\n",
       "      <th>1</th>\n",
       "      <td>1072053</td>\n",
       "      <td>CA</td>\n",
       "      <td>INDIVIDUAL</td>\n",
       "      <td>9 years</td>\n",
       "      <td>MKC Accounting</td>\n",
       "      <td>E</td>\n",
       "      <td>RENT</td>\n",
       "      <td>2024-01-01</td>\n",
       "      <td>14-12-2024</td>\n",
       "      <td>15-01-2024</td>\n",
       "      <td>...</td>\n",
       "      <td>E1</td>\n",
       "      <td>36 months</td>\n",
       "      <td>Source Verified</td>\n",
       "      <td>48000.0</td>\n",
       "      <td>0.0535</td>\n",
       "      <td>109.43</td>\n",
       "      <td>0.1864</td>\n",
       "      <td>3000</td>\n",
       "      <td>4</td>\n",
       "      <td>3939</td>\n",
       "    </tr>\n",
       "    <tr>\n",
       "      <th>2</th>\n",
       "      <td>1069243</td>\n",
       "      <td>CA</td>\n",
       "      <td>INDIVIDUAL</td>\n",
       "      <td>4 years</td>\n",
       "      <td>Chemat Technology Inc</td>\n",
       "      <td>C</td>\n",
       "      <td>RENT</td>\n",
       "      <td>2024-01-05</td>\n",
       "      <td>12-12-2024</td>\n",
       "      <td>09-01-2024</td>\n",
       "      <td>...</td>\n",
       "      <td>C5</td>\n",
       "      <td>36 months</td>\n",
       "      <td>Not Verified</td>\n",
       "      <td>50000.0</td>\n",
       "      <td>0.2088</td>\n",
       "      <td>421.65</td>\n",
       "      <td>0.1596</td>\n",
       "      <td>12000</td>\n",
       "      <td>11</td>\n",
       "      <td>3522</td>\n",
       "    </tr>\n",
       "    <tr>\n",
       "      <th>3</th>\n",
       "      <td>1041756</td>\n",
       "      <td>TX</td>\n",
       "      <td>INDIVIDUAL</td>\n",
       "      <td>&lt; 1 year</td>\n",
       "      <td>barnes distribution</td>\n",
       "      <td>B</td>\n",
       "      <td>MORTGAGE</td>\n",
       "      <td>2024-02-25</td>\n",
       "      <td>12-12-2024</td>\n",
       "      <td>12-03-2024</td>\n",
       "      <td>...</td>\n",
       "      <td>B2</td>\n",
       "      <td>60 months</td>\n",
       "      <td>Source Verified</td>\n",
       "      <td>42000.0</td>\n",
       "      <td>0.0540</td>\n",
       "      <td>97.06</td>\n",
       "      <td>0.1065</td>\n",
       "      <td>4500</td>\n",
       "      <td>9</td>\n",
       "      <td>4911</td>\n",
       "    </tr>\n",
       "    <tr>\n",
       "      <th>4</th>\n",
       "      <td>1068350</td>\n",
       "      <td>IL</td>\n",
       "      <td>INDIVIDUAL</td>\n",
       "      <td>10+ years</td>\n",
       "      <td>J&amp;J Steel Inc</td>\n",
       "      <td>A</td>\n",
       "      <td>MORTGAGE</td>\n",
       "      <td>2024-01-01</td>\n",
       "      <td>14-12-2024</td>\n",
       "      <td>15-01-2024</td>\n",
       "      <td>...</td>\n",
       "      <td>A1</td>\n",
       "      <td>36 months</td>\n",
       "      <td>Verified</td>\n",
       "      <td>83000.0</td>\n",
       "      <td>0.0231</td>\n",
       "      <td>106.53</td>\n",
       "      <td>0.0603</td>\n",
       "      <td>3500</td>\n",
       "      <td>28</td>\n",
       "      <td>3835</td>\n",
       "    </tr>\n",
       "  </tbody>\n",
       "</table>\n",
       "<p>5 rows × 24 columns</p>\n",
       "</div>"
      ],
      "text/plain": [
       "        id address_state application_type emp_length              emp_title  \\\n",
       "0  1077430            GA       INDIVIDUAL   < 1 year                  Ryder   \n",
       "1  1072053            CA       INDIVIDUAL    9 years         MKC Accounting   \n",
       "2  1069243            CA       INDIVIDUAL    4 years  Chemat Technology Inc   \n",
       "3  1041756            TX       INDIVIDUAL   < 1 year    barnes distribution   \n",
       "4  1068350            IL       INDIVIDUAL  10+ years          J&J Steel Inc   \n",
       "\n",
       "  grade home_ownership issue_date last_credit_pull_date last_payment_date  \\\n",
       "0     C           RENT 2024-02-11            13-09-2024        13-04-2024   \n",
       "1     E           RENT 2024-01-01            14-12-2024        15-01-2024   \n",
       "2     C           RENT 2024-01-05            12-12-2024        09-01-2024   \n",
       "3     B       MORTGAGE 2024-02-25            12-12-2024        12-03-2024   \n",
       "4     A       MORTGAGE 2024-01-01            14-12-2024        15-01-2024   \n",
       "\n",
       "   ... sub_grade        term  verification_status annual_income     dti  \\\n",
       "0  ...        C4   60 months      Source Verified       30000.0  0.0100   \n",
       "1  ...        E1   36 months      Source Verified       48000.0  0.0535   \n",
       "2  ...        C5   36 months         Not Verified       50000.0  0.2088   \n",
       "3  ...        B2   60 months      Source Verified       42000.0  0.0540   \n",
       "4  ...        A1   36 months             Verified       83000.0  0.0231   \n",
       "\n",
       "  installment int_rate  loan_amount  total_acc  total_payment  \n",
       "0       59.83   0.1527         2500          4           1009  \n",
       "1      109.43   0.1864         3000          4           3939  \n",
       "2      421.65   0.1596        12000         11           3522  \n",
       "3       97.06   0.1065         4500          9           4911  \n",
       "4      106.53   0.0603         3500         28           3835  \n",
       "\n",
       "[5 rows x 24 columns]"
      ]
     },
     "execution_count": 3,
     "metadata": {},
     "output_type": "execute_result"
    }
   ],
   "source": [
    "df.head()"
   ]
  },
  {
   "cell_type": "code",
   "execution_count": 4,
   "id": "b9a2359c-eefe-455f-9851-5afb419b3060",
   "metadata": {},
   "outputs": [],
   "source": [
    "# Creating Month and Year columns\n",
    "df['Month'] = df['issue_date'].dt.month\n",
    "df['MonthName'] = df['issue_date'].dt.strftime('%b')\n",
    "df['Year'] = df['issue_date'].dt.year\n"
   ]
  },
  {
   "cell_type": "markdown",
   "id": "d029dc59-eef9-4c9c-8082-749193476d43",
   "metadata": {},
   "source": [
    "### KPI Calculations"
   ]
  },
  {
   "cell_type": "markdown",
   "id": "5f376a58-174a-4524-80a1-5bf5ea4c7a94",
   "metadata": {},
   "source": [
    "#### 1. Total Loan Applications"
   ]
  },
  {
   "cell_type": "code",
   "execution_count": 8,
   "id": "8b3a64e7-9b73-420c-9833-1e7b94485cde",
   "metadata": {},
   "outputs": [
    {
     "name": "stdout",
     "output_type": "stream",
     "text": [
      "Total Loan Applications: 38576\n"
     ]
    }
   ],
   "source": [
    "total_applications = len(df)\n",
    "print(\"Total Loan Applications:\", total_applications)\n",
    "\n"
   ]
  },
  {
   "cell_type": "markdown",
   "id": "f40d8092-7a4e-4c00-bf90-425878f66409",
   "metadata": {},
   "source": [
    "#### 2.MTD Loan Applications"
   ]
  },
  {
   "cell_type": "code",
   "execution_count": 9,
   "id": "e2bf2548-80f3-4a8b-99ca-b22a05c26b1a",
   "metadata": {},
   "outputs": [
    {
     "name": "stdout",
     "output_type": "stream",
     "text": [
      "MTD Loan Applications (Dec): 4314\n"
     ]
    }
   ],
   "source": [
    "mtd_applications = len(df[df['issue_date'].dt.month == 12])\n",
    "print(\"MTD Loan Applications (Dec):\", mtd_applications)\n"
   ]
  },
  {
   "cell_type": "markdown",
   "id": "a95d8bcb-fc93-4f41-b456-35cb8dcbd515",
   "metadata": {},
   "source": [
    "#### 3.PMTD Loan Applications"
   ]
  },
  {
   "cell_type": "code",
   "execution_count": 10,
   "id": "1245e088-4f30-45ff-affa-f2db01f11c41",
   "metadata": {},
   "outputs": [
    {
     "name": "stdout",
     "output_type": "stream",
     "text": [
      "PMTD Loan Applications (Nov): 4035\n"
     ]
    }
   ],
   "source": [
    "pmtd_applications = len(df[df['issue_date'].dt.month == 11])\n",
    "print(\"PMTD Loan Applications (Nov):\", pmtd_applications)\n"
   ]
  },
  {
   "cell_type": "markdown",
   "id": "bcc453f5-26c2-41cc-946d-74005e134731",
   "metadata": {},
   "source": [
    "#### 4. Total Funded Amount"
   ]
  },
  {
   "cell_type": "code",
   "execution_count": 11,
   "id": "ab3229de-f846-4661-b722-6a33c405cded",
   "metadata": {},
   "outputs": [
    {
     "name": "stdout",
     "output_type": "stream",
     "text": [
      "Total Funded Amount: 435757075\n"
     ]
    }
   ],
   "source": [
    "total_funded_amount = df['loan_amount'].sum()\n",
    "print(\"Total Funded Amount:\", total_funded_amount)\n"
   ]
  },
  {
   "cell_type": "markdown",
   "id": "2358ed8b-cb74-43e2-a05b-8fe0600123be",
   "metadata": {},
   "source": [
    "#### 5. MTD Total Funded Amount"
   ]
  },
  {
   "cell_type": "code",
   "execution_count": 12,
   "id": "0b62551d-427e-4879-92b4-f0902f37b36d",
   "metadata": {},
   "outputs": [
    {
     "name": "stdout",
     "output_type": "stream",
     "text": [
      "MTD Funded Amount (Dec): 53981425\n"
     ]
    }
   ],
   "source": [
    "mtd_funded_amount = df[df['issue_date'].dt.month == 12]['loan_amount'].sum()\n",
    "print(\"MTD Funded Amount (Dec):\", mtd_funded_amount)\n"
   ]
  },
  {
   "cell_type": "markdown",
   "id": "a1841d83-179f-46ab-915d-47a9e021eeb1",
   "metadata": {},
   "source": [
    "#### 6. PMTD Total Funded Amount"
   ]
  },
  {
   "cell_type": "code",
   "execution_count": 13,
   "id": "3cb8edee-4992-4544-b601-5e3e7aa7358a",
   "metadata": {},
   "outputs": [
    {
     "name": "stdout",
     "output_type": "stream",
     "text": [
      "PMTD Funded Amount (Nov): 47754825\n"
     ]
    }
   ],
   "source": [
    "pmtd_funded_amount = df[df['issue_date'].dt.month == 11]['loan_amount'].sum()\n",
    "print(\"PMTD Funded Amount (Nov):\", pmtd_funded_amount)\n"
   ]
  },
  {
   "cell_type": "markdown",
   "id": "5e7f96d2-67a0-4a37-8e7d-f308df28e2dd",
   "metadata": {},
   "source": [
    "#### 7. Total Amount Received"
   ]
  },
  {
   "cell_type": "code",
   "execution_count": 14,
   "id": "e8559794-fc31-48be-bdee-a0b0497d6c1c",
   "metadata": {},
   "outputs": [
    {
     "name": "stdout",
     "output_type": "stream",
     "text": [
      "Total Amount Received: 473071176\n"
     ]
    }
   ],
   "source": [
    "total_amount_received = df['total_payment'].sum()\n",
    "print(\"Total Amount Received:\", total_amount_received)\n"
   ]
  },
  {
   "cell_type": "markdown",
   "id": "9b39590b-b505-4dab-9767-9cec6ab2bdff",
   "metadata": {},
   "source": [
    "#### 8. MTD Total Amount Received"
   ]
  },
  {
   "cell_type": "code",
   "execution_count": 15,
   "id": "26963c3e-4fcc-4278-bbde-09105b384297",
   "metadata": {},
   "outputs": [
    {
     "name": "stdout",
     "output_type": "stream",
     "text": [
      "MTD Amount Received (Dec): 58074440\n"
     ]
    }
   ],
   "source": [
    "mtd_amount_received = df[df['issue_date'].dt.month == 12]['total_payment'].sum()\n",
    "print(\"MTD Amount Received (Dec):\", mtd_amount_received)\n"
   ]
  },
  {
   "cell_type": "markdown",
   "id": "929cb031-618b-4ba7-8236-ce66e2cb4370",
   "metadata": {},
   "source": [
    "#### 9. PMTD Total Amount Received"
   ]
  },
  {
   "cell_type": "code",
   "execution_count": 16,
   "id": "c8db77fb-99a7-4506-b304-1e3f8d197281",
   "metadata": {},
   "outputs": [
    {
     "name": "stdout",
     "output_type": "stream",
     "text": [
      "PMTD Amount Received (Nov): 50132030\n"
     ]
    }
   ],
   "source": [
    "pmtd_amount_received = df[df['issue_date'].dt.month == 11]['total_payment'].sum()\n",
    "print(\"PMTD Amount Received (Nov):\", pmtd_amount_received)\n"
   ]
  },
  {
   "cell_type": "markdown",
   "id": "96432bdc-ad2f-4452-9e9c-531c428f8ddb",
   "metadata": {},
   "source": [
    "#### 10. Average Interest Rate"
   ]
  },
  {
   "cell_type": "code",
   "execution_count": 66,
   "id": "fbd05fad-8c5a-480f-970a-cfd919d16e65",
   "metadata": {},
   "outputs": [
    {
     "name": "stdout",
     "output_type": "stream",
     "text": [
      "Average Interest Rate (%): 12.05\n"
     ]
    }
   ],
   "source": [
    "avg_interest_rate = round(df['int_rate'].mean() * 100, 2)\n",
    "print(\"Average Interest Rate (%):\", avg_interest_rate)"
   ]
  },
  {
   "cell_type": "markdown",
   "id": "a6220d26-18d8-4b87-9dc8-edb83d3ae27e",
   "metadata": {},
   "source": [
    "#### 11. MTD Average Interest"
   ]
  },
  {
   "cell_type": "code",
   "execution_count": 19,
   "id": "9c1de5c9-f61d-4377-a2a5-c2919f99c494",
   "metadata": {},
   "outputs": [
    {
     "name": "stdout",
     "output_type": "stream",
     "text": [
      "MTD Average Interest Rate (Dec) (%): 12.36\n"
     ]
    }
   ],
   "source": [
    "mtd_avg_interest_rate = round(df[df['issue_date'].dt.month == 12]['int_rate'].mean() * 100, 2)\n",
    "print(\"MTD Average Interest Rate (Dec) (%):\", mtd_avg_interest_rate)\n"
   ]
  },
  {
   "cell_type": "markdown",
   "id": "aa22244d-d8c8-4fa3-b5a2-f4d487b757ad",
   "metadata": {},
   "source": [
    "#### 12. PMTD Average Interest"
   ]
  },
  {
   "cell_type": "code",
   "execution_count": 20,
   "id": "f0fcdefc-a79a-4217-8aeb-4b96a4ccf9b9",
   "metadata": {},
   "outputs": [
    {
     "name": "stdout",
     "output_type": "stream",
     "text": [
      "PMTD Average Interest Rate (Nov) (%): 11.94\n"
     ]
    }
   ],
   "source": [
    "mtd_avg_interest_rate = round(df[df['issue_date'].dt.month == 11]['int_rate'].mean() * 100, 2)\n",
    "print(\"PMTD Average Interest Rate (Nov) (%):\", pmtd_avg_interest_rate)\n"
   ]
  },
  {
   "cell_type": "markdown",
   "id": "efb705c5-4917-43b6-a88c-43c9f43d6b38",
   "metadata": {},
   "source": [
    "#### 13. Avg DTI"
   ]
  },
  {
   "cell_type": "code",
   "execution_count": 22,
   "id": "0df55e78-9846-49bb-8064-bfef4bf0286c",
   "metadata": {},
   "outputs": [
    {
     "name": "stdout",
     "output_type": "stream",
     "text": [
      "Average DTI (%): 13.33\n"
     ]
    }
   ],
   "source": [
    "avg_dti = round(df['dti'].mean() * 100, 2)\n",
    "print(\"Average DTI (%):\", avg_dti)\n"
   ]
  },
  {
   "cell_type": "markdown",
   "id": "41eeb249-d72d-4d56-b1f2-e60607d49b80",
   "metadata": {},
   "source": [
    "####  14. MTD Avg DTI"
   ]
  },
  {
   "cell_type": "code",
   "execution_count": 25,
   "id": "c4fa31d1-5090-42a9-a185-1efff2477ec3",
   "metadata": {},
   "outputs": [
    {
     "name": "stdout",
     "output_type": "stream",
     "text": [
      "MTD Average DTI (Dec) (%): 13.67\n"
     ]
    }
   ],
   "source": [
    "mtd_avg_dti = round(df[df['issue_date'].dt.month == 12]['dti'].mean() * 100, 2)\n",
    "print(\"MTD Average DTI (Dec) (%):\", mtd_avg_dti)\n"
   ]
  },
  {
   "cell_type": "markdown",
   "id": "28f152d3-842d-4736-b1d4-35eaf674d063",
   "metadata": {},
   "source": [
    "####  15. PMTD Avg DTI"
   ]
  },
  {
   "cell_type": "code",
   "execution_count": 26,
   "id": "6e8b569b-d341-44f2-92c2-313e712349a1",
   "metadata": {},
   "outputs": [
    {
     "name": "stdout",
     "output_type": "stream",
     "text": [
      "PMTD Average DTI (Nov) (%): 13.3\n"
     ]
    }
   ],
   "source": [
    "pmtd_avg_dti = round(df[df['issue_date'].dt.month == 11]['dti'].mean() * 100, 2)\n",
    "print(\"PMTD Average DTI (Nov) (%):\", pmtd_avg_dti)\n"
   ]
  },
  {
   "cell_type": "markdown",
   "id": "4e21967a-37cf-4f88-a603-900fcb71b977",
   "metadata": {},
   "source": [
    "###   GOOD LOAN ISSUED"
   ]
  },
  {
   "cell_type": "markdown",
   "id": "9d1c59b0-79f4-4388-90ed-1522a7dc55d8",
   "metadata": {},
   "source": [
    "#### 16. Good Loan Percentage"
   ]
  },
  {
   "cell_type": "code",
   "execution_count": 28,
   "id": "80818c3c-86f5-4180-9a89-df4169263162",
   "metadata": {},
   "outputs": [
    {
     "name": "stdout",
     "output_type": "stream",
     "text": [
      "Good Loan Percentage (%): 86.18\n"
     ]
    }
   ],
   "source": [
    "good_loans = df[df['loan_status'].isin(['Fully Paid', 'Current'])]\n",
    "good_loan_percentage = round(len(good_loans) * 100.0 / len(df), 2)\n",
    "print(\"Good Loan Percentage (%):\", good_loan_percentage)\n"
   ]
  },
  {
   "cell_type": "markdown",
   "id": "89158756-cc67-45af-92e6-1eca87bbec72",
   "metadata": {},
   "source": [
    "#### 17. Good Loan Applications"
   ]
  },
  {
   "cell_type": "code",
   "execution_count": 29,
   "id": "3c25b94d-1f01-4d3f-8e3a-b47cdd815898",
   "metadata": {},
   "outputs": [
    {
     "name": "stdout",
     "output_type": "stream",
     "text": [
      "Good Loan Applications: 33243\n"
     ]
    }
   ],
   "source": [
    "good_loan_applications = len(good_loans)\n",
    "print(\"Good Loan Applications:\", good_loan_applications)\n"
   ]
  },
  {
   "cell_type": "markdown",
   "id": "885caaa7-7b75-4795-9389-8f5cbcddab56",
   "metadata": {},
   "source": [
    "#### 18. Good Loan Funded Amount"
   ]
  },
  {
   "cell_type": "code",
   "execution_count": 30,
   "id": "5a403cbd-ceb4-4237-ba49-d09d58171a5f",
   "metadata": {},
   "outputs": [
    {
     "name": "stdout",
     "output_type": "stream",
     "text": [
      "Good Loan Funded Amount: 370224850\n"
     ]
    }
   ],
   "source": [
    "good_loan_funded = good_loans['loan_amount'].sum()\n",
    "print(\"Good Loan Funded Amount:\", good_loan_funded)\n"
   ]
  },
  {
   "cell_type": "markdown",
   "id": "c9ae7a51-8a7c-4e09-b600-f03abcad04c9",
   "metadata": {},
   "source": [
    "#### 19. Good Loan Amount Received"
   ]
  },
  {
   "cell_type": "code",
   "execution_count": 31,
   "id": "598e772b-da90-417b-b428-72873240fe72",
   "metadata": {},
   "outputs": [
    {
     "name": "stdout",
     "output_type": "stream",
     "text": [
      "Good Loan Amount Received: 435786413\n"
     ]
    }
   ],
   "source": [
    "good_loan_received = good_loans['total_payment'].sum()\n",
    "print(\"Good Loan Amount Received:\", good_loan_received)\n"
   ]
  },
  {
   "cell_type": "markdown",
   "id": "ebce1344-16b6-49e1-8e94-a096e1234313",
   "metadata": {},
   "source": [
    "###  BAD LOAN ISSUED"
   ]
  },
  {
   "cell_type": "markdown",
   "id": "2b7c21c0-8593-4193-814d-56601ef79808",
   "metadata": {},
   "source": [
    "####  20. Bad Loan Percentage"
   ]
  },
  {
   "cell_type": "code",
   "execution_count": 32,
   "id": "27e5ac38-246e-4e25-b0d2-42ac790fa043",
   "metadata": {},
   "outputs": [
    {
     "name": "stdout",
     "output_type": "stream",
     "text": [
      "Bad Loan Percentage (%): 13.82\n"
     ]
    }
   ],
   "source": [
    "bad_loans = df[df['loan_status'] == 'Charged Off']\n",
    "bad_loan_percentage = round(len(bad_loans) * 100.0 / len(df), 2)\n",
    "print(\"Bad Loan Percentage (%):\", bad_loan_percentage)\n"
   ]
  },
  {
   "cell_type": "markdown",
   "id": "4106bfa2-eb0f-45b2-aee4-7b446fc46b92",
   "metadata": {},
   "source": [
    "#### 21. Bad Loan Applications"
   ]
  },
  {
   "cell_type": "code",
   "execution_count": 33,
   "id": "3bb6ad2a-97ea-4044-8360-210ec162df12",
   "metadata": {},
   "outputs": [
    {
     "name": "stdout",
     "output_type": "stream",
     "text": [
      "Bad Loan Applications: 5333\n"
     ]
    }
   ],
   "source": [
    "bad_loan_applications = len(bad_loans)\n",
    "print(\"Bad Loan Applications:\", bad_loan_applications)\n"
   ]
  },
  {
   "cell_type": "markdown",
   "id": "f150897c-5422-48d1-bc9c-2fe470f305cc",
   "metadata": {},
   "source": [
    "#### 22. Bad Loan Funded Amount"
   ]
  },
  {
   "cell_type": "code",
   "execution_count": 34,
   "id": "bcb5f07d-490b-4bbf-96e7-93b6000639df",
   "metadata": {},
   "outputs": [
    {
     "name": "stdout",
     "output_type": "stream",
     "text": [
      "Bad Loan Funded Amount: 65532225\n"
     ]
    }
   ],
   "source": [
    "bad_loan_funded = bad_loans['loan_amount'].sum()\n",
    "print(\"Bad Loan Funded Amount:\", bad_loan_funded)\n"
   ]
  },
  {
   "cell_type": "markdown",
   "id": "ba44d693-eb6d-411c-8576-deff0bdc83f4",
   "metadata": {},
   "source": [
    "####  23. Bad Loan Amount Received"
   ]
  },
  {
   "cell_type": "code",
   "execution_count": 35,
   "id": "697be6aa-ed9e-4242-9495-d88056a8d1ae",
   "metadata": {},
   "outputs": [
    {
     "name": "stdout",
     "output_type": "stream",
     "text": [
      "Bad Loan Amount Received: 37284763\n"
     ]
    }
   ],
   "source": [
    "bad_loan_received = bad_loans['total_payment'].sum()\n",
    "print(\"Bad Loan Amount Received:\", bad_loan_received)\n"
   ]
  },
  {
   "cell_type": "markdown",
   "id": "8f764d2f-7c62-4d97-b012-7e4fc6894202",
   "metadata": {},
   "source": [
    " ###  LOAN STATUS OVERVIEW"
   ]
  },
  {
   "cell_type": "markdown",
   "id": "bc5b36a3-1e3f-44ca-a081-6a0574927302",
   "metadata": {},
   "source": [
    "#### 24. Loan Status Summary\n"
   ]
  },
  {
   "cell_type": "code",
   "execution_count": 36,
   "id": "c7bb58c5-890d-4a7c-8fca-39ebb75b7d6a",
   "metadata": {},
   "outputs": [
    {
     "name": "stdout",
     "output_type": "stream",
     "text": [
      " Loan Status Summary:\n",
      "    loan_status  LoanCount  Total_Amount_Received  Total_Funded_Amount  \\\n",
      "0  Charged Off       5333               37284763             65532225   \n",
      "1      Current       1098               24199914             18866500   \n",
      "2   Fully Paid      32145              411586499            351358350   \n",
      "\n",
      "   Interest_Rate    DTI  \n",
      "0          13.88  14.00  \n",
      "1          15.10  14.72  \n",
      "2          11.64  13.17  \n"
     ]
    }
   ],
   "source": [
    "loan_status_summary = df.groupby('loan_status').agg(\n",
    "    LoanCount=('id', 'count'),\n",
    "    Total_Amount_Received=('total_payment', 'sum'),\n",
    "    Total_Funded_Amount=('loan_amount', 'sum'),\n",
    "    Interest_Rate=('int_rate', lambda x: round(x.mean() * 100, 2)),\n",
    "    DTI=('dti', lambda x: round(x.mean() * 100, 2))\n",
    ").reset_index()\n",
    "\n",
    "print(\" Loan Status Summary:\\n\", loan_status_summary)\n"
   ]
  },
  {
   "cell_type": "markdown",
   "id": "38318b09-c86c-448f-a853-98602d87fd1c",
   "metadata": {},
   "source": [
    "#### 25. MTD Loan Status Summary"
   ]
  },
  {
   "cell_type": "code",
   "execution_count": 37,
   "id": "d53eafcb-74ca-48af-9e42-10603110a9f1",
   "metadata": {},
   "outputs": [
    {
     "name": "stdout",
     "output_type": "stream",
     "text": [
      "MTD Loan Status Summary (Dec):\n",
      "    loan_status  MTD_Total_Amount_Received  MTD_Total_Funded_Amount\n",
      "0  Charged Off                    5324211                  8732775\n",
      "1      Current                    4934318                  3946625\n",
      "2   Fully Paid                   47815911                 41302025\n"
     ]
    }
   ],
   "source": [
    "mtd_df = df[df['issue_date'].dt.month == 12]\n",
    "\n",
    "mtd_loan_status_summary = mtd_df.groupby('loan_status').agg(\n",
    "    MTD_Total_Amount_Received=('total_payment', 'sum'),\n",
    "    MTD_Total_Funded_Amount=('loan_amount', 'sum')\n",
    ").reset_index()\n",
    "\n",
    "print(\"MTD Loan Status Summary (Dec):\\n\", mtd_loan_status_summary)\n"
   ]
  },
  {
   "cell_type": "markdown",
   "id": "a063b56e-0363-43d7-9ba7-915026e30430",
   "metadata": {},
   "source": [
    "#### Good vs Bad Loan"
   ]
  },
  {
   "cell_type": "code",
   "execution_count": 39,
   "id": "278627aa-2e02-48b7-98e9-46853c8656e1",
   "metadata": {},
   "outputs": [
    {
     "data": {
      "image/png": "[encoded data removed]",
      "text/plain": [
       "<Figure size 640x480 with 1 Axes>"
      ]
     },
     "metadata": {},
     "output_type": "display_data"
    }
   ],
   "source": [
    "good = df[df['loan_status'].isin(['Fully Paid', 'Current'])].shape[0]\n",
    "bad = df[df['loan_status'] == 'Charged Off'].shape[0]\n",
    "\n",
    "plt.pie([good, bad], labels=['Good Loans', 'Bad Loans'], autopct='%1.1f%%', colors=['green', 'deeppink'])\n",
    "plt.title(\"Good vs Bad Loan Issued\")\n",
    "plt.show()"
   ]
  },
  {
   "cell_type": "markdown",
   "id": "cc288263-de27-436d-b34f-eb97b46b9e89",
   "metadata": {},
   "source": [
    "### BANK LOAN REPORT | OVERVIEW"
   ]
  },
  {
   "cell_type": "markdown",
   "id": "5fb6751d-3f84-4d1a-ade1-1775c1ceeb53",
   "metadata": {},
   "source": [
    "#### 3. Total Funded Amount by Month "
   ]
  },
  {
   "cell_type": "code",
   "execution_count": 67,
   "id": "3d854326-da1c-490a-9b55-728f1e7530bc",
   "metadata": {},
   "outputs": [
    {
     "data": {
      "image/png": "[encoded data removed]",
      "text/plain": [
       "<Figure size 1000x600 with 1 Axes>"
      ]
     },
     "metadata": {},
     "output_type": "display_data"
    }
   ],
   "source": [
    "import matplotlib.pyplot as plt\n",
    "\n",
    "\n",
    "monthly_funds = df.groupby('MonthName')['loan_amount'].sum().reindex([\n",
    "    'Jan', 'Feb', 'Mar', 'Apr', 'May', 'Jun',\n",
    "    'Jul', 'Aug', 'Sep', 'Oct', 'Nov', 'Dec'\n",
    "])\n",
    "\n",
    "monthly_millions = monthly_funds / 1e6\n",
    "\n",
    "\n",
    "plt.figure(figsize=(10, 6))\n",
    "plt.fill_between(monthly_millions.index, monthly_millions.values, color='#F3F6C3')  # soft yellow like Power BI\n",
    "plt.plot(monthly_millions.index, monthly_millions.values, marker='o', color='dodgerblue', linewidth=2)\n",
    "\n",
    "\n",
    "for i, value in enumerate(monthly_millions.values):\n",
    "    plt.text(i, value + 1, f\"${value:.0f}M\", ha='center', va='bottom', fontsize=10, fontweight='bold')\n",
    "\n",
    "\n",
    "plt.title('Total Funded Amount by Month', fontsize=13, fontweight='bold')\n",
    "\n",
    "\n",
    "plt.yticks([])  \n",
    "plt.ylabel('') \n",
    "\n",
    "\n",
    "plt.xticks(fontsize=10)\n",
    "plt.grid(False)\n",
    "\n",
    "plt.tight_layout()\n",
    "plt.show()\n",
    "\n",
    " "
   ]
  },
  {
   "cell_type": "markdown",
   "id": "35a25db1-3a27-4108-ba05-03da5d709979",
   "metadata": {},
   "source": [
    "#### 4. Total Loan Applications by State"
   ]
  },
  {
   "cell_type": "code",
   "execution_count": 68,
   "id": "885dcb8c-8fba-4664-bb4e-43fea41eaba4",
   "metadata": {},
   "outputs": [
    {
     "data": {
      "application/vnd.plotly.v1+json": {
       "config": {
        "plotlyServerURL": "https://plot.ly"
       },
       "data": [
        {
         "coloraxis": "coloraxis",
         "geo": "geo",
         "hovertemplate": "address_state=%{location}<br>Total_Applications=%{z}<extra></extra>",
         "locationmode": "USA-states",
         "locations": [
          "AK",
          "AL",
          "AR",
          "AZ",
          "CA",
          "CO",
          "CT",
          "DC",
          "DE",
          "FL",
          "GA",
          "HI",
          "IA",
          "ID",
          "IL",
          "IN",
          "KS",
          "KY",
          "LA",
          "MA",
          "MD",
          "ME",
          "MI",
          "MN",
          "MO",
          "MS",
          "MT",
          "NC",
          "NE",
          "NH",
          "NJ",
          "NM",
          "NV",
          "NY",
          "OH",
          "OK",
          "OR",
          "PA",
          "RI",
          "SC",
          "SD",
          "TN",
          "TX",
          "UT",
          "VA",
          "VT",
          "WA",
          "WI",
          "WV",
          "WY"
         ],
         "name": "",
         "type": "choropleth",
         "z": [
          78,
          432,
          236,
          833,
          6894,
          770,
          730,
          214,
          110,
          2773,
          1355,
          170,
          5,
          6,
          1486,
          9,
          260,
          320,
          426,
          1310,
          1027,
          3,
          685,
          592,
          660,
          19,
          79,
          759,
          5,
          161,
          1822,
          183,
          482,
          3701,
          1188,
          293,
          436,
          1482,
          196,
          464,
          63,
          17,
          2664,
          252,
          1375,
          54,
          805,
          446,
          167,
          79
         ]
        }
       ],
       "layout": {
        "autosize": true,
        "coloraxis": {
         "colorbar": {
          "title": {
           "text": "Total_Applications"
          }
         },
         "colorscale": [
          [
           0,
           "rgb(247,251,255)"
          ],
          [
           0.125,
           "rgb(222,235,247)"
          ],
          [
           0.25,
           "rgb(198,219,239)"
          ],
          [
           0.375,
           "rgb(158,202,225)"
          ],
          [
           0.5,
           "rgb(107,174,214)"
          ],
          [
           0.625,
           "rgb(66,146,198)"
          ],
          [
           0.75,
           "rgb(33,113,181)"
          ],
          [
           0.875,
           "rgb(8,81,156)"
          ],
          [
           1,
           "rgb(8,48,107)"
          ]
         ]
        },
        "geo": {
         "bgcolor": "rgba(0, 0, 0, 0)",
         "center": {},
         "domain": {
          "x": [
           0,
           1
          ],
          "y": [
           0,
           1
          ]
         },
         "scope": "usa"
        },
        "legend": {
         "tracegroupgap": 0
        },
        "margin": {
         "b": 20,
         "l": 20,
         "r": 20,
         "t": 60
        },
        "template": {
         "data": {
          "bar": [
           {
            "error_x": {
             "color": "#2a3f5f"
            },
            "error_y": {
             "color": "#2a3f5f"
            },
            "marker": {
             "line": {
              "color": "#E5ECF6",
              "width": 0.5
             },
             "pattern": {
              "fillmode": "overlay",
              "size": 10,
              "solidity": 0.2
             }
            },
            "type": "bar"
           }
          ],
          "barpolar": [
           {
            "marker": {
             "line": {
              "color": "#E5ECF6",
              "width": 0.5
             },
             "pattern": {
              "fillmode": "overlay",
              "size": 10,
              "solidity": 0.2
             }
            },
            "type": "barpolar"
           }
          ],
          "carpet": [
           {
            "aaxis": {
             "endlinecolor": "#2a3f5f",
             "gridcolor": "white",
             "linecolor": "white",
             "minorgridcolor": "white",
             "startlinecolor": "#2a3f5f"
            },
            "baxis": {
             "endlinecolor": "#2a3f5f",
             "gridcolor": "white",
             "linecolor": "white",
             "minorgridcolor": "white",
             "startlinecolor": "#2a3f5f"
            },
            "type": "carpet"
           }
          ],
          "choropleth": [
           {
            "colorbar": {
             "outlinewidth": 0,
             "ticks": ""
            },
            "type": "choropleth"
           }
          ],
          "contour": [
           {
            "colorbar": {
             "outlinewidth": 0,
             "ticks": ""
            },
            "colorscale": [
             [
              0,
              "#0d0887"
             ],
             [
              0.1111111111111111,
              "#46039f"
             ],
             [
              0.2222222222222222,
              "#7201a8"
             ],
             [
              0.3333333333333333,
              "#9c179e"
             ],
             [
              0.4444444444444444,
              "#bd3786"
             ],
             [
              0.5555555555555556,
              "#d8576b"
             ],
             [
              0.6666666666666666,
              "#ed7953"
             ],
             [
              0.7777777777777778,
              "#fb9f3a"
             ],
             [
              0.8888888888888888,
              "#fdca26"
             ],
             [
              1,
              "#f0f921"
             ]
            ],
            "type": "contour"
           }
          ],
          "contourcarpet": [
           {
            "colorbar": {
             "outlinewidth": 0,
             "ticks": ""
            },
            "type": "contourcarpet"
           }
          ],
          "heatmap": [
           {
            "colorbar": {
             "outlinewidth": 0,
             "ticks": ""
            },
            "colorscale": [
             [
              0,
              "#0d0887"
             ],
             [
              0.1111111111111111,
              "#46039f"
             ],
             [
              0.2222222222222222,
              "#7201a8"
             ],
             [
              0.3333333333333333,
              "#9c179e"
             ],
             [
              0.4444444444444444,
              "#bd3786"
             ],
             [
              0.5555555555555556,
              "#d8576b"
             ],
             [
              0.6666666666666666,
              "#ed7953"
             ],
             [
              0.7777777777777778,
              "#fb9f3a"
             ],
             [
              0.8888888888888888,
              "#fdca26"
             ],
             [
              1,
              "#f0f921"
             ]
            ],
            "type": "heatmap"
           }
          ],
          "heatmapgl": [
           {
            "colorbar": {
             "outlinewidth": 0,
             "ticks": ""
            },
            "colorscale": [
             [
              0,
              "#0d0887"
             ],
             [
              0.1111111111111111,
              "#46039f"
             ],
             [
              0.2222222222222222,
              "#7201a8"
             ],
             [
              0.3333333333333333,
              "#9c179e"
             ],
             [
              0.4444444444444444,
              "#bd3786"
             ],
             [
              0.5555555555555556,
              "#d8576b"
             ],
             [
              0.6666666666666666,
              "#ed7953"
             ],
             [
              0.7777777777777778,
              "#fb9f3a"
             ],
             [
              0.8888888888888888,
              "#fdca26"
             ],
             [
              1,
              "#f0f921"
             ]
            ],
            "type": "heatmapgl"
           }
          ],
          "histogram": [
           {
            "marker": {
             "pattern": {
              "fillmode": "overlay",
              "size": 10,
              "solidity": 0.2
             }
            },
            "type": "histogram"
           }
          ],
          "histogram2d": [
           {
            "colorbar": {
             "outlinewidth": 0,
             "ticks": ""
            },
            "colorscale": [
             [
              0,
              "#0d0887"
             ],
             [
              0.1111111111111111,
              "#46039f"
             ],
             [
              0.2222222222222222,
              "#7201a8"
             ],
             [
              0.3333333333333333,
              "#9c179e"
             ],
             [
              0.4444444444444444,
              "#bd3786"
             ],
             [
              0.5555555555555556,
              "#d8576b"
             ],
             [
              0.6666666666666666,
              "#ed7953"
             ],
             [
              0.7777777777777778,
              "#fb9f3a"
             ],
             [
              0.8888888888888888,
              "#fdca26"
             ],
             [
              1,
              "#f0f921"
             ]
            ],
            "type": "histogram2d"
           }
          ],
          "histogram2dcontour": [
           {
            "colorbar": {
             "outlinewidth": 0,
             "ticks": ""
            },
            "colorscale": [
             [
              0,
              "#0d0887"
             ],
             [
              0.1111111111111111,
              "#46039f"
             ],
             [
              0.2222222222222222,
              "#7201a8"
             ],
             [
              0.3333333333333333,
              "#9c179e"
             ],
             [
              0.4444444444444444,
              "#bd3786"
             ],
             [
              0.5555555555555556,
              "#d8576b"
             ],
             [
              0.6666666666666666,
              "#ed7953"
             ],
             [
              0.7777777777777778,
              "#fb9f3a"
             ],
             [
              0.8888888888888888,
              "#fdca26"
             ],
             [
              1,
              "#f0f921"
             ]
            ],
            "type": "histogram2dcontour"
           }
          ],
          "mesh3d": [
           {
            "colorbar": {
             "outlinewidth": 0,
             "ticks": ""
            },
            "type": "mesh3d"
           }
          ],
          "parcoords": [
           {
            "line": {
             "colorbar": {
              "outlinewidth": 0,
              "ticks": ""
             }
            },
            "type": "parcoords"
           }
          ],
          "pie": [
           {
            "automargin": true,
            "type": "pie"
           }
          ],
          "scatter": [
           {
            "fillpattern": {
             "fillmode": "overlay",
             "size": 10,
             "solidity": 0.2
            },
            "type": "scatter"
           }
          ],
          "scatter3d": [
           {
            "line": {
             "colorbar": {
              "outlinewidth": 0,
              "ticks": ""
             }
            },
            "marker": {
             "colorbar": {
              "outlinewidth": 0,
              "ticks": ""
             }
            },
            "type": "scatter3d"
           }
          ],
          "scattercarpet": [
           {
            "marker": {
             "colorbar": {
              "outlinewidth": 0,
              "ticks": ""
             }
            },
            "type": "scattercarpet"
           }
          ],
          "scattergeo": [
           {
            "marker": {
             "colorbar": {
              "outlinewidth": 0,
              "ticks": ""
             }
            },
            "type": "scattergeo"
           }
          ],
          "scattergl": [
           {
            "marker": {
             "colorbar": {
              "outlinewidth": 0,
              "ticks": ""
             }
            },
            "type": "scattergl"
           }
          ],
          "scattermapbox": [
           {
            "marker": {
             "colorbar": {
              "outlinewidth": 0,
              "ticks": ""
             }
            },
            "type": "scattermapbox"
           }
          ],
          "scatterpolar": [
           {
            "marker": {
             "colorbar": {
              "outlinewidth": 0,
              "ticks": ""
             }
            },
            "type": "scatterpolar"
           }
          ],
          "scatterpolargl": [
           {
            "marker": {
             "colorbar": {
              "outlinewidth": 0,
              "ticks": ""
             }
            },
            "type": "scatterpolargl"
           }
          ],
          "scatterternary": [
           {
            "marker": {
             "colorbar": {
              "outlinewidth": 0,
              "ticks": ""
             }
            },
            "type": "scatterternary"
           }
          ],
          "surface": [
           {
            "colorbar": {
             "outlinewidth": 0,
             "ticks": ""
            },
            "colorscale": [
             [
              0,
              "#0d0887"
             ],
             [
              0.1111111111111111,
              "#46039f"
             ],
             [
              0.2222222222222222,
              "#7201a8"
             ],
             [
              0.3333333333333333,
              "#9c179e"
             ],
             [
              0.4444444444444444,
              "#bd3786"
             ],
             [
              0.5555555555555556,
              "#d8576b"
             ],
             [
              0.6666666666666666,
              "#ed7953"
             ],
             [
              0.7777777777777778,
              "#fb9f3a"
             ],
             [
              0.8888888888888888,
              "#fdca26"
             ],
             [
              1,
              "#f0f921"
             ]
            ],
            "type": "surface"
           }
          ],
          "table": [
           {
            "cells": {
             "fill": {
              "color": "#EBF0F8"
             },
             "line": {
              "color": "white"
             }
            },
            "header": {
             "fill": {
              "color": "#C8D4E3"
             },
             "line": {
              "color": "white"
             }
            },
            "type": "table"
           }
          ]
         },
         "layout": {
          "annotationdefaults": {
           "arrowcolor": "#2a3f5f",
           "arrowhead": 0,
           "arrowwidth": 1
          },
          "autotypenumbers": "strict",
          "coloraxis": {
           "colorbar": {
            "outlinewidth": 0,
            "ticks": ""
           }
          },
          "colorscale": {
           "diverging": [
            [
             0,
             "#8e0152"
            ],
            [
             0.1,
             "#c51b7d"
            ],
            [
             0.2,
             "#de77ae"
            ],
            [
             0.3,
             "#f1b6da"
            ],
            [
             0.4,
             "#fde0ef"
            ],
            [
             0.5,
             "#f7f7f7"
            ],
            [
             0.6,
             "#e6f5d0"
            ],
            [
             0.7,
             "#b8e186"
            ],
            [
             0.8,
             "#7fbc41"
            ],
            [
             0.9,
             "#4d9221"
            ],
            [
             1,
             "#276419"
            ]
           ],
           "sequential": [
            [
             0,
             "#0d0887"
            ],
            [
             0.1111111111111111,
             "#46039f"
            ],
            [
             0.2222222222222222,
             "#7201a8"
            ],
            [
             0.3333333333333333,
             "#9c179e"
            ],
            [
             0.4444444444444444,
             "#bd3786"
            ],
            [
             0.5555555555555556,
             "#d8576b"
            ],
            [
             0.6666666666666666,
             "#ed7953"
            ],
            [
             0.7777777777777778,
             "#fb9f3a"
            ],
            [
             0.8888888888888888,
             "#fdca26"
            ],
            [
             1,
             "#f0f921"
            ]
           ],
           "sequentialminus": [
            [
             0,
             "#0d0887"
            ],
            [
             0.1111111111111111,
             "#46039f"
            ],
            [
             0.2222222222222222,
             "#7201a8"
            ],
            [
             0.3333333333333333,
             "#9c179e"
            ],
            [
             0.4444444444444444,
             "#bd3786"
            ],
            [
             0.5555555555555556,
             "#d8576b"
            ],
            [
             0.6666666666666666,
             "#ed7953"
            ],
            [
             0.7777777777777778,
             "#fb9f3a"
            ],
            [
             0.8888888888888888,
             "#fdca26"
            ],
            [
             1,
             "#f0f921"
            ]
           ]
          },
          "colorway": [
           "#636efa",
           "#EF553B",
           "#00cc96",
           "#ab63fa",
           "#FFA15A",
           "#19d3f3",
           "#FF6692",
           "#B6E880",
           "#FF97FF",
           "#FECB52"
          ],
          "font": {
           "color": "#2a3f5f"
          },
          "geo": {
           "bgcolor": "white",
           "lakecolor": "white",
           "landcolor": "#E5ECF6",
           "showlakes": true,
           "showland": true,
           "subunitcolor": "white"
          },
          "hoverlabel": {
           "align": "left"
          },
          "hovermode": "closest",
          "mapbox": {
           "style": "light"
          },
          "paper_bgcolor": "white",
          "plot_bgcolor": "#E5ECF6",
          "polar": {
           "angularaxis": {
            "gridcolor": "white",
            "linecolor": "white",
            "ticks": ""
           },
           "bgcolor": "#E5ECF6",
           "radialaxis": {
            "gridcolor": "white",
            "linecolor": "white",
            "ticks": ""
           }
          },
          "scene": {
           "xaxis": {
            "backgroundcolor": "#E5ECF6",
            "gridcolor": "white",
            "gridwidth": 2,
            "linecolor": "white",
            "showbackground": true,
            "ticks": "",
            "zerolinecolor": "white"
           },
           "yaxis": {
            "backgroundcolor": "#E5ECF6",
            "gridcolor": "white",
            "gridwidth": 2,
            "linecolor": "white",
            "showbackground": true,
            "ticks": "",
            "zerolinecolor": "white"
           },
           "zaxis": {
            "backgroundcolor": "#E5ECF6",
            "gridcolor": "white",
            "gridwidth": 2,
            "linecolor": "white",
            "showbackground": true,
            "ticks": "",
            "zerolinecolor": "white"
           }
          },
          "shapedefaults": {
           "line": {
            "color": "#2a3f5f"
           }
          },
          "ternary": {
           "aaxis": {
            "gridcolor": "white",
            "linecolor": "white",
            "ticks": ""
           },
           "baxis": {
            "gridcolor": "white",
            "linecolor": "white",
            "ticks": ""
           },
           "bgcolor": "#E5ECF6",
           "caxis": {
            "gridcolor": "white",
            "linecolor": "white",
            "ticks": ""
           }
          },
          "title": {
           "x": 0.05
          },
          "xaxis": {
           "automargin": true,
           "gridcolor": "white",
           "linecolor": "white",
           "ticks": "",
           "title": {
            "standoff": 15
           },
           "zerolinecolor": "white",
           "zerolinewidth": 2
          },
          "yaxis": {
           "automargin": true,
           "gridcolor": "white",
           "linecolor": "white",
           "ticks": "",
           "title": {
            "standoff": 15
           },
           "zerolinecolor": "white",
           "zerolinewidth": 2
          }
         }
        },
        "title": {
         "font": {
          "color": "darkblue",
          "family": "Arial",
          "size": 20
         },
         "text": "Total Loan Applications by State (Total: 38,576)"
        }
       }
      },
      "image/png": "[encoded data removed]",
      "text/html": [
       "<div>                            <div id=\"3178b551-e800-42fe-bacf-3d0afa8afd27\" class=\"plotly-graph-div\" style=\"height:525px; width:100%;\"></div>            <script type=\"text/javascript\">                require([\"plotly\"], function(Plotly) {                    window.PLOTLYENV=window.PLOTLYENV || {};                                    if (document.getElementById(\"3178b551-e800-42fe-bacf-3d0afa8afd27\")) {                    Plotly.newPlot(                        \"3178b551-e800-42fe-bacf-3d0afa8afd27\",                        [{\"coloraxis\":\"coloraxis\",\"geo\":\"geo\",\"hovertemplate\":\"address_state=%{location}\\u003cbr\\u003eTotal_Applications=%{z}\\u003cextra\\u003e\\u003c\\u002fextra\\u003e\",\"locationmode\":\"USA-states\",\"locations\":[\"AK\",\"AL\",\"AR\",\"AZ\",\"CA\",\"CO\",\"CT\",\"DC\",\"DE\",\"FL\",\"GA\",\"HI\",\"IA\",\"ID\",\"IL\",\"IN\",\"KS\",\"KY\",\"LA\",\"MA\",\"MD\",\"ME\",\"MI\",\"MN\",\"MO\",\"MS\",\"MT\",\"NC\",\"NE\",\"NH\",\"NJ\",\"NM\",\"NV\",\"NY\",\"OH\",\"OK\",\"OR\",\"PA\",\"RI\",\"SC\",\"SD\",\"TN\",\"TX\",\"UT\",\"VA\",\"VT\",\"WA\",\"WI\",\"WV\",\"WY\"],\"name\":\"\",\"z\":[78,432,236,833,6894,770,730,214,110,2773,1355,170,5,6,1486,9,260,320,426,1310,1027,3,685,592,660,19,79,759,5,161,1822,183,482,3701,1188,293,436,1482,196,464,63,17,2664,252,1375,54,805,446,167,79],\"type\":\"choropleth\"}],                        {\"template\":{\"data\":{\"histogram2dcontour\":[{\"type\":\"histogram2dcontour\",\"colorbar\":{\"outlinewidth\":0,\"ticks\":\"\"},\"colorscale\":[[0.0,\"#0d0887\"],[0.1111111111111111,\"#46039f\"],[0.2222222222222222,\"#7201a8\"],[0.3333333333333333,\"#9c179e\"],[0.4444444444444444,\"#bd3786\"],[0.5555555555555556,\"#d8576b\"],[0.6666666666666666,\"#ed7953\"],[0.7777777777777778,\"#fb9f3a\"],[0.8888888888888888,\"#fdca26\"],[1.0,\"#f0f921\"]]}],\"choropleth\":[{\"type\":\"choropleth\",\"colorbar\":{\"outlinewidth\":0,\"ticks\":\"\"}}],\"histogram2d\":[{\"type\":\"histogram2d\",\"colorbar\":{\"outlinewidth\":0,\"ticks\":\"\"},\"colorscale\":[[0.0,\"#0d0887\"],[0.1111111111111111,\"#46039f\"],[0.2222222222222222,\"#7201a8\"],[0.3333333333333333,\"#9c179e\"],[0.4444444444444444,\"#bd3786\"],[0.5555555555555556,\"#d8576b\"],[0.6666666666666666,\"#ed7953\"],[0.7777777777777778,\"#fb9f3a\"],[0.8888888888888888,\"#fdca26\"],[1.0,\"#f0f921\"]]}],\"heatmap\":[{\"type\":\"heatmap\",\"colorbar\":{\"outlinewidth\":0,\"ticks\":\"\"},\"colorscale\":[[0.0,\"#0d0887\"],[0.1111111111111111,\"#46039f\"],[0.2222222222222222,\"#7201a8\"],[0.3333333333333333,\"#9c179e\"],[0.4444444444444444,\"#bd3786\"],[0.5555555555555556,\"#d8576b\"],[0.6666666666666666,\"#ed7953\"],[0.7777777777777778,\"#fb9f3a\"],[0.8888888888888888,\"#fdca26\"],[1.0,\"#f0f921\"]]}],\"heatmapgl\":[{\"type\":\"heatmapgl\",\"colorbar\":{\"outlinewidth\":0,\"ticks\":\"\"},\"colorscale\":[[0.0,\"#0d0887\"],[0.1111111111111111,\"#46039f\"],[0.2222222222222222,\"#7201a8\"],[0.3333333333333333,\"#9c179e\"],[0.4444444444444444,\"#bd3786\"],[0.5555555555555556,\"#d8576b\"],[0.6666666666666666,\"#ed7953\"],[0.7777777777777778,\"#fb9f3a\"],[0.8888888888888888,\"#fdca26\"],[1.0,\"#f0f921\"]]}],\"contourcarpet\":[{\"type\":\"contourcarpet\",\"colorbar\":{\"outlinewidth\":0,\"ticks\":\"\"}}],\"contour\":[{\"type\":\"contour\",\"colorbar\":{\"outlinewidth\":0,\"ticks\":\"\"},\"colorscale\":[[0.0,\"#0d0887\"],[0.1111111111111111,\"#46039f\"],[0.2222222222222222,\"#7201a8\"],[0.3333333333333333,\"#9c179e\"],[0.4444444444444444,\"#bd3786\"],[0.5555555555555556,\"#d8576b\"],[0.6666666666666666,\"#ed7953\"],[0.7777777777777778,\"#fb9f3a\"],[0.8888888888888888,\"#fdca26\"],[1.0,\"#f0f921\"]]}],\"surface\":[{\"type\":\"surface\",\"colorbar\":{\"outlinewidth\":0,\"ticks\":\"\"},\"colorscale\":[[0.0,\"#0d0887\"],[0.1111111111111111,\"#46039f\"],[0.2222222222222222,\"#7201a8\"],[0.3333333333333333,\"#9c179e\"],[0.4444444444444444,\"#bd3786\"],[0.5555555555555556,\"#d8576b\"],[0.6666666666666666,\"#ed7953\"],[0.7777777777777778,\"#fb9f3a\"],[0.8888888888888888,\"#fdca26\"],[1.0,\"#f0f921\"]]}],\"mesh3d\":[{\"type\":\"mesh3d\",\"colorbar\":{\"outlinewidth\":0,\"ticks\":\"\"}}],\"scatter\":[{\"fillpattern\":{\"fillmode\":\"overlay\",\"size\":10,\"solidity\":0.2},\"type\":\"scatter\"}],\"parcoords\":[{\"type\":\"parcoords\",\"line\":{\"colorbar\":{\"outlinewidth\":0,\"ticks\":\"\"}}}],\"scatterpolargl\":[{\"type\":\"scatterpolargl\",\"marker\":{\"colorbar\":{\"outlinewidth\":0,\"ticks\":\"\"}}}],\"bar\":[{\"error_x\":{\"color\":\"#2a3f5f\"},\"error_y\":{\"color\":\"#2a3f5f\"},\"marker\":{\"line\":{\"color\":\"#E5ECF6\",\"width\":0.5},\"pattern\":{\"fillmode\":\"overlay\",\"size\":10,\"solidity\":0.2}},\"type\":\"bar\"}],\"scattergeo\":[{\"type\":\"scattergeo\",\"marker\":{\"colorbar\":{\"outlinewidth\":0,\"ticks\":\"\"}}}],\"scatterpolar\":[{\"type\":\"scatterpolar\",\"marker\":{\"colorbar\":{\"outlinewidth\":0,\"ticks\":\"\"}}}],\"histogram\":[{\"marker\":{\"pattern\":{\"fillmode\":\"overlay\",\"size\":10,\"solidity\":0.2}},\"type\":\"histogram\"}],\"scattergl\":[{\"type\":\"scattergl\",\"marker\":{\"colorbar\":{\"outlinewidth\":0,\"ticks\":\"\"}}}],\"scatter3d\":[{\"type\":\"scatter3d\",\"line\":{\"colorbar\":{\"outlinewidth\":0,\"ticks\":\"\"}},\"marker\":{\"colorbar\":{\"outlinewidth\":0,\"ticks\":\"\"}}}],\"scattermapbox\":[{\"type\":\"scattermapbox\",\"marker\":{\"colorbar\":{\"outlinewidth\":0,\"ticks\":\"\"}}}],\"scatterternary\":[{\"type\":\"scatterternary\",\"marker\":{\"colorbar\":{\"outlinewidth\":0,\"ticks\":\"\"}}}],\"scattercarpet\":[{\"type\":\"scattercarpet\",\"marker\":{\"colorbar\":{\"outlinewidth\":0,\"ticks\":\"\"}}}],\"carpet\":[{\"aaxis\":{\"endlinecolor\":\"#2a3f5f\",\"gridcolor\":\"white\",\"linecolor\":\"white\",\"minorgridcolor\":\"white\",\"startlinecolor\":\"#2a3f5f\"},\"baxis\":{\"endlinecolor\":\"#2a3f5f\",\"gridcolor\":\"white\",\"linecolor\":\"white\",\"minorgridcolor\":\"white\",\"startlinecolor\":\"#2a3f5f\"},\"type\":\"carpet\"}],\"table\":[{\"cells\":{\"fill\":{\"color\":\"#EBF0F8\"},\"line\":{\"color\":\"white\"}},\"header\":{\"fill\":{\"color\":\"#C8D4E3\"},\"line\":{\"color\":\"white\"}},\"type\":\"table\"}],\"barpolar\":[{\"marker\":{\"line\":{\"color\":\"#E5ECF6\",\"width\":0.5},\"pattern\":{\"fillmode\":\"overlay\",\"size\":10,\"solidity\":0.2}},\"type\":\"barpolar\"}],\"pie\":[{\"automargin\":true,\"type\":\"pie\"}]},\"layout\":{\"autotypenumbers\":\"strict\",\"colorway\":[\"#636efa\",\"#EF553B\",\"#00cc96\",\"#ab63fa\",\"#FFA15A\",\"#19d3f3\",\"#FF6692\",\"#B6E880\",\"#FF97FF\",\"#FECB52\"],\"font\":{\"color\":\"#2a3f5f\"},\"hovermode\":\"closest\",\"hoverlabel\":{\"align\":\"left\"},\"paper_bgcolor\":\"white\",\"plot_bgcolor\":\"#E5ECF6\",\"polar\":{\"bgcolor\":\"#E5ECF6\",\"angularaxis\":{\"gridcolor\":\"white\",\"linecolor\":\"white\",\"ticks\":\"\"},\"radialaxis\":{\"gridcolor\":\"white\",\"linecolor\":\"white\",\"ticks\":\"\"}},\"ternary\":{\"bgcolor\":\"#E5ECF6\",\"aaxis\":{\"gridcolor\":\"white\",\"linecolor\":\"white\",\"ticks\":\"\"},\"baxis\":{\"gridcolor\":\"white\",\"linecolor\":\"white\",\"ticks\":\"\"},\"caxis\":{\"gridcolor\":\"white\",\"linecolor\":\"white\",\"ticks\":\"\"}},\"coloraxis\":{\"colorbar\":{\"outlinewidth\":0,\"ticks\":\"\"}},\"colorscale\":{\"sequential\":[[0.0,\"#0d0887\"],[0.1111111111111111,\"#46039f\"],[0.2222222222222222,\"#7201a8\"],[0.3333333333333333,\"#9c179e\"],[0.4444444444444444,\"#bd3786\"],[0.5555555555555556,\"#d8576b\"],[0.6666666666666666,\"#ed7953\"],[0.7777777777777778,\"#fb9f3a\"],[0.8888888888888888,\"#fdca26\"],[1.0,\"#f0f921\"]],\"sequentialminus\":[[0.0,\"#0d0887\"],[0.1111111111111111,\"#46039f\"],[0.2222222222222222,\"#7201a8\"],[0.3333333333333333,\"#9c179e\"],[0.4444444444444444,\"#bd3786\"],[0.5555555555555556,\"#d8576b\"],[0.6666666666666666,\"#ed7953\"],[0.7777777777777778,\"#fb9f3a\"],[0.8888888888888888,\"#fdca26\"],[1.0,\"#f0f921\"]],\"diverging\":[[0,\"#8e0152\"],[0.1,\"#c51b7d\"],[0.2,\"#de77ae\"],[0.3,\"#f1b6da\"],[0.4,\"#fde0ef\"],[0.5,\"#f7f7f7\"],[0.6,\"#e6f5d0\"],[0.7,\"#b8e186\"],[0.8,\"#7fbc41\"],[0.9,\"#4d9221\"],[1,\"#276419\"]]},\"xaxis\":{\"gridcolor\":\"white\",\"linecolor\":\"white\",\"ticks\":\"\",\"title\":{\"standoff\":15},\"zerolinecolor\":\"white\",\"automargin\":true,\"zerolinewidth\":2},\"yaxis\":{\"gridcolor\":\"white\",\"linecolor\":\"white\",\"ticks\":\"\",\"title\":{\"standoff\":15},\"zerolinecolor\":\"white\",\"automargin\":true,\"zerolinewidth\":2},\"scene\":{\"xaxis\":{\"backgroundcolor\":\"#E5ECF6\",\"gridcolor\":\"white\",\"linecolor\":\"white\",\"showbackground\":true,\"ticks\":\"\",\"zerolinecolor\":\"white\",\"gridwidth\":2},\"yaxis\":{\"backgroundcolor\":\"#E5ECF6\",\"gridcolor\":\"white\",\"linecolor\":\"white\",\"showbackground\":true,\"ticks\":\"\",\"zerolinecolor\":\"white\",\"gridwidth\":2},\"zaxis\":{\"backgroundcolor\":\"#E5ECF6\",\"gridcolor\":\"white\",\"linecolor\":\"white\",\"showbackground\":true,\"ticks\":\"\",\"zerolinecolor\":\"white\",\"gridwidth\":2}},\"shapedefaults\":{\"line\":{\"color\":\"#2a3f5f\"}},\"annotationdefaults\":{\"arrowcolor\":\"#2a3f5f\",\"arrowhead\":0,\"arrowwidth\":1},\"geo\":{\"bgcolor\":\"white\",\"landcolor\":\"#E5ECF6\",\"subunitcolor\":\"white\",\"showland\":true,\"showlakes\":true,\"lakecolor\":\"white\"},\"title\":{\"x\":0.05},\"mapbox\":{\"style\":\"light\"}}},\"geo\":{\"domain\":{\"x\":[0.0,1.0],\"y\":[0.0,1.0]},\"center\":{},\"scope\":\"usa\",\"bgcolor\":\"rgba(0,0,0,0)\"},\"coloraxis\":{\"colorbar\":{\"title\":{\"text\":\"Total_Applications\"}},\"colorscale\":[[0.0,\"rgb(247,251,255)\"],[0.125,\"rgb(222,235,247)\"],[0.25,\"rgb(198,219,239)\"],[0.375,\"rgb(158,202,225)\"],[0.5,\"rgb(107,174,214)\"],[0.625,\"rgb(66,146,198)\"],[0.75,\"rgb(33,113,181)\"],[0.875,\"rgb(8,81,156)\"],[1.0,\"rgb(8,48,107)\"]]},\"legend\":{\"tracegroupgap\":0},\"title\":{\"text\":\"Total Loan Applications by State (Total: 38,576)\",\"font\":{\"size\":20,\"family\":\"Arial\",\"color\":\"darkblue\"}},\"margin\":{\"l\":20,\"r\":20,\"t\":60,\"b\":20}},                        {\"responsive\": true}                    ).then(function(){\n",
       "                            \n",
       "var gd = document.getElementById('3178b551-e800-42fe-bacf-3d0afa8afd27');\n",
       "var x = new MutationObserver(function (mutations, observer) {{\n",
       "        var display = window.getComputedStyle(gd).display;\n",
       "        if (!display || display === 'none') {{\n",
       "            console.log([gd, 'removed!']);\n",
       "            Plotly.purge(gd);\n",
       "            observer.disconnect();\n",
       "        }}\n",
       "}});\n",
       "\n",
       "// Listen for the removal of the full notebook cells\n",
       "var notebookContainer = gd.closest('#notebook-container');\n",
       "if (notebookContainer) {{\n",
       "    x.observe(notebookContainer, {childList: true});\n",
       "}}\n",
       "\n",
       "// Listen for the clearing of the current output cell\n",
       "var outputEl = gd.closest('.output');\n",
       "if (outputEl) {{\n",
       "    x.observe(outputEl, {childList: true});\n",
       "}}\n",
       "\n",
       "                        })                };                });            </script>        </div>"
      ]
     },
     "metadata": {},
     "output_type": "display_data"
    }
   ],
   "source": [
    "import plotly.express as px\n",
    "\n",
    "\n",
    "state_counts = df.groupby('address_state')['id'].count().reset_index()\n",
    "state_counts.columns = ['address_state', 'Total_Applications']\n",
    "\n",
    "\n",
    "total_apps = state_counts['Total_Applications'].sum()\n",
    "\n",
    "\n",
    "fig = px.choropleth(\n",
    "    state_counts,\n",
    "    locations='address_state',\n",
    "    locationmode='USA-states',\n",
    "    color='Total_Applications',\n",
    "    scope='usa',\n",
    "    title=f'Total Loan Applications by State (Total: {total_apps:,})',\n",
    "    color_continuous_scale='Blues'\n",
    ")\n",
    "\n",
    "fig.update_layout(\n",
    "    title_font=dict(size=20, family='Arial', color='darkblue'),\n",
    "    geo=dict(bgcolor='rgba(0,0,0,0)'),\n",
    "    margin=dict(l=20, r=20, t=60, b=20)\n",
    ")\n",
    "\n",
    "fig.show()\n"
   ]
  },
  {
   "cell_type": "markdown",
   "id": "dce61e15-17f9-43c7-b6e1-6aa1e229d2a6",
   "metadata": {},
   "source": [
    "#### Purpose For Loan"
   ]
  },
  {
   "cell_type": "code",
   "execution_count": 44,
   "id": "6e308fd7-e1fd-49f2-aa0c-1f5dc97508fb",
   "metadata": {},
   "outputs": [
    {
     "data": {
      "image/png": "[encoded data removed]",
      "text/plain": [
       "<Figure size 1000x600 with 1 Axes>"
      ]
     },
     "metadata": {},
     "output_type": "display_data"
    }
   ],
   "source": [
    "\n",
    "purpose = df.groupby('purpose')['loan_amount'].sum().sort_values()\n",
    "\n",
    "\n",
    "ax = purpose.plot(kind='barh', color='magenta', figsize=(10, 6))\n",
    "plt.title('Funded Amount by Purpose')\n",
    "\n",
    "\n",
    "ax.xaxis.set_visible(False)\n",
    "\n",
    "#data labels\n",
    "for i, v in enumerate(purpose):\n",
    "    ax.text(v, i, f'{v:,.0f}', va='center', color='black', fontweight='bold')\n",
    "\n"
   ]
  },
  {
   "cell_type": "markdown",
   "id": "fefdada8-6a73-414a-8022-484471cc1081",
   "metadata": {},
   "source": [
    " #### Employee Length"
   ]
  },
  {
   "cell_type": "code",
   "execution_count": 69,
   "id": "3d2ec7f6-e3fa-43fa-bdca-e824469d5d5f",
   "metadata": {},
   "outputs": [
    {
     "name": "stdout",
     "output_type": "stream",
     "text": [
      " Employee Length Summary:\n",
      "    emp_length  Total_Loan_Applications  Total_Funded_Amount  \\\n",
      "0      1 year                     3229             32883125   \n",
      "1   10+ years                     8870            116115950   \n",
      "2     2 years                     4382             44967975   \n",
      "3     3 years                     4088             43937850   \n",
      "4     4 years                     3428             37600375   \n",
      "5     5 years                     3273             36973625   \n",
      "6     6 years                     2228             25612650   \n",
      "7     7 years                     1772             20811725   \n",
      "8     8 years                     1476             17558950   \n",
      "9     9 years                     1255             15084225   \n",
      "10   < 1 year                     4575             44210625   \n",
      "\n",
      "    Total_Amount_Received  \n",
      "0                35498378  \n",
      "1               125871646  \n",
      "2                49206991  \n",
      "3                47551832  \n",
      "4                40964940  \n",
      "5                40397574  \n",
      "6                27908658  \n",
      "7                22584166  \n",
      "8                19025777  \n",
      "9                16516173  \n",
      "10               47545041  \n"
     ]
    }
   ],
   "source": [
    "employee_summary = df.groupby('emp_length').agg(\n",
    "    Total_Loan_Applications=('id', 'count'),\n",
    "    Total_Funded_Amount=('loan_amount', 'sum'),\n",
    "    Total_Amount_Received=('total_payment', 'sum')\n",
    ").reset_index().sort_values(by='emp_length')\n",
    "\n",
    "print(\" Employee Length Summary:\\n\", employee_summary)\n"
   ]
  },
  {
   "cell_type": "code",
   "execution_count": 52,
   "id": "3fc97668-a8be-476c-b556-3abae1c95d80",
   "metadata": {},
   "outputs": [
    {
     "data": {
      "image/png": "[encoded data removed]",
      "text/plain": [
       "<Figure size 1000x600 with 1 Axes>"
      ]
     },
     "metadata": {},
     "output_type": "display_data"
    }
   ],
   "source": [
    "\n",
    "emp_order = [\n",
    "    '< 1 year', '1 year', '2 years', '3 years', '4 years', '5 years',\n",
    "    '6 years', '7 years', '8 years', '9 years', '10+ years'\n",
    "]\n",
    "\n",
    "\n",
    "employee_summary = df.groupby('emp_length')['loan_amount'].sum().reindex(emp_order)\n",
    "\n",
    "\n",
    "ax = employee_summary.plot(kind='barh', color='orchid', figsize=(10, 6), title='Funded Amount by Employee Length')\n",
    "\n",
    "\n",
    "for i, v in enumerate(employee_summary):\n",
    "    if pd.notna(v):\n",
    "        ax.text(v, i, f'{v:,.0f}', va='center', ha='left', fontsize=9)\n",
    "\n",
    "ax.xaxis.set_visible(False)\n",
    "plt.xlabel('Funded Amount')\n",
    "plt.ylabel('Employee Length')\n",
    "plt.tight_layout()\n",
    "plt.show()\n"
   ]
  },
  {
   "cell_type": "markdown",
   "id": "dc20fdf1-e9c0-4e2e-870a-6e6b8b7b1d0d",
   "metadata": {},
   "source": [
    "#### Home Ownership"
   ]
  },
  {
   "cell_type": "code",
   "execution_count": 57,
   "id": "e4eaa297-cbb9-4500-a486-618f350d650f",
   "metadata": {},
   "outputs": [
    {
     "data": {
      "image/png": "[encoded data removed]",
      "text/plain": [
       "<Figure size 1000x600 with 1 Axes>"
      ]
     },
     "metadata": {},
     "output_type": "display_data"
    }
   ],
   "source": [
    "home_ownership_summary = df.groupby('home_ownership')['loan_amount'].sum().sort_values()\n",
    "\n",
    "\n",
    "ax = home_ownership_summary.plot(kind='barh', color='deepskyblue', figsize=(10, 6), title='Funded Amount by Home Ownership')\n",
    "\n",
    "\n",
    "for i, v in enumerate(home_ownership_summary):\n",
    "    ax.text(v, i, f'{v:,.0f}', va='center', ha='left', fontsize=9)\n",
    "\n",
    "\n",
    "\n",
    "ax.xaxis.set_visible(False)\n",
    "plt.xlabel('Funded Amount')\n",
    "plt.ylabel('Home Ownership')\n",
    "plt.tight_layout()\n",
    "plt.show()\n"
   ]
  },
  {
   "cell_type": "code",
   "execution_count": 59,
   "id": "14d4f5c0-c6a2-44a4-afdc-494154bd256d",
   "metadata": {},
   "outputs": [
    {
     "data": {
      "image/png": "[encoded data removed]",
      "text/plain": [
       "<Figure size 800x400 with 1 Axes>"
      ]
     },
     "metadata": {},
     "output_type": "display_data"
    }
   ],
   "source": [
    "term_summary = df.groupby('term')['loan_amount'].sum().sort_values()\n",
    "import matplotlib.pyplot as plt\n",
    "\n",
    "\n",
    "ax = term_summary.plot(kind='barh', color='mediumvioletred', figsize=(8, 4), title='Funded Amount by Loan Term')\n",
    "\n",
    "\n",
    "for i, v in enumerate(term_summary):\n",
    "    ax.text(v, i, f'{v:,.0f}', va='center', ha='left', fontsize=9)\n",
    "\n",
    "\n",
    "ax.xaxis.set_visible(False)\n",
    "plt.xlabel('Funded Amount')\n",
    "plt.ylabel('Loan Term')\n",
    "plt.tight_layout()\n",
    "plt.show()\n"
   ]
  },
  {
   "cell_type": "markdown",
   "id": "26debe3e-ef27-4855-9650-8f3f4fd40369",
   "metadata": {},
   "source": [
    "#### Purpose With Grade"
   ]
  },
  {
   "cell_type": "code",
   "execution_count": 65,
   "id": "6da1d015-17f9-481a-a3ac-fb51c954c771",
   "metadata": {},
   "outputs": [
    {
     "data": {
      "image/png": "[encoded data removed]",
      "text/plain": [
       "<Figure size 1000x600 with 1 Axes>"
      ]
     },
     "metadata": {},
     "output_type": "display_data"
    }
   ],
   "source": [
    "grade_a_purpose = df[df['grade'] == 'A'].groupby('purpose')['loan_amount'].sum().sort_values()\n",
    "import matplotlib.pyplot as plt\n",
    "\n",
    "\n",
    "ax = grade_a_purpose.plot(kind='barh', color='gold', figsize=(10, 6), title='Funded Amount by Purpose (Grade A)')\n",
    "\n",
    "\n",
    "for i, v in enumerate(grade_a_purpose):\n",
    "    ax.text(v, i, f'{v:,.0f}', va='center', ha='left', fontsize=9)\n",
    "\n",
    "ax.xaxis.set_visible(False)\n",
    "plt.xlabel('Funded Amount')\n",
    "plt.ylabel('Purpose')\n",
    "plt.tight_layout()\n",
    "plt.show()\n"
   ]
  },
  {
   "cell_type": "code",
   "execution_count": null,
   "id": "7254c2af-c659-4635-af21-37a3ab769024",
   "metadata": {},
   "outputs": [],
   "source": []
  }
 ],
 "metadata": {
  "kernelspec": {
   "display_name": "Python 3 (ipykernel)",
   "language": "python",
   "name": "python3"
  },
  "language_info": {
   "codemirror_mode": {
    "name": "ipython",
    "version": 3
   },
   "file_extension": ".py",
   "mimetype": "text/x-python",
   "name": "python",
   "nbconvert_exporter": "python",
   "pygments_lexer": "ipython3",
   "version": "3.12.7"
  }
 },
 "nbformat": 4,
 "nbformat_minor": 5
}
